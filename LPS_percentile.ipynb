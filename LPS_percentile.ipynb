{
 "cells": [
  {
   "cell_type": "code",
   "execution_count": 3,
   "metadata": {},
   "outputs": [],
   "source": [
    "%matplotlib inline\n",
    "\n",
    "import pandas as pd\n",
    "import matplotlib.pyplot as plt\n",
    "import seaborn as sns\n",
    "import numpy as np\n",
    "\n",
    "sns.set(style=\"darkgrid\")\n",
    "\n",
    "# CSV einlesen (Achtung keine / in den Spaltenüberschriften wegen späterem Namen)\n",
    "# geht davon aus, dass keine Fehler in der Datei sind und alle Felder richtig gefüllt\n",
    "df = pd.read_csv('input/20190215LPS_CFD.csv', sep=';', usecols=[9,11,18], parse_dates=[1,2], encoding='iso8859_15')\n",
    "\n",
    "df.columns = ['art', 'input', 'out']\n",
    "\n",
    "feiertage = ['2018-10-03', # Tag der Einheit\n",
    "             '2018-11-01', # Allerheiligen\n",
    "             '2018-12-24', # Heiligabend\n",
    "             '2018-12-25', # Weihnachten\n",
    "             '2018-12-26', # Weihnachten\n",
    "             '2018-12-31', # Silvester\n",
    "             '2019-01-01'  # Neujahr\n",
    "            ]\n",
    "\n",
    "# astype('datetime64[D]') notwendig\n",
    "dauer=np.busday_count(df.input.values.astype('datetime64[D]'), \n",
    "                  df.out.values.astype('datetime64[D]'), \n",
    "                    holidays=feiertage)+1\n",
    "\n",
    "df['dauer'] = dauer\n",
    "\n",
    "von=(min(df.input))\n",
    "von=von.strftime('%d.%m.%Y')\n",
    "\n",
    "bis=(max(df.out))\n",
    "bis=bis.strftime('%d.%m.%Y')\n",
    "\n",
    "def calc_8090_percentile(ldf, art, von, bis):\n",
    "    #interpolation noch überprüfen\n",
    "    perc80 = np.percentile(ldf.dauer,80,interpolation='lower')\n",
    "    perc90 = np.percentile(ldf.dauer,90,interpolation='lower')\n",
    "    return (perc80, perc90)\n",
    "#end 8090_percentile\n",
    "    \n",
    "\n",
    "def plot_leadtime(ldf, art, von, bis):\n",
    "    #interpolation noch überprüfen\n",
    "    perc80 = np.percentile(ldf.dauer,80,interpolation='lower')\n",
    "    perc90 = np.percentile(ldf.dauer,90,interpolation='lower')\n",
    "    \n",
    "    # gca stands for 'get current axis'\n",
    "    ax = plt.gca()\n",
    "    #hist zählt direkt die Elemente\n",
    "    ldf.plot(kind='hist', y='dauer',bins=max(dauer),rwidth=1, color='black', ax=ax, label='')\n",
    "    #df[gewaehlt].plot(kind='hist', y='dauer',bins=max(dauer),rwidth=1, color='black', ax=ax, title='selected work item type')\n",
    "\n",
    "    text90 = '90% fertig in ' + str(perc90) + ' Tagen'\n",
    "    \n",
    "    # vertical dotted line originating at mean value\n",
    "    plt.axvline(perc90+.1, linestyle='--', linewidth=1, color='red', label=text90)\n",
    "\n",
    "    text80 = '80% fertig in ' + str(perc80) + ' Tagen'\n",
    "    \n",
    "    # vertical dotted line originating at mean value\n",
    "    plt.axvline(perc80+.1, linestyle='-.', linewidth=1, color='blue', label=text80)\n",
    "\n",
    "    # Beschriftung\n",
    "    plt.suptitle(art)\n",
    "    #raus = str(von) +' bis ' + str(bis) + ': ' + str(len(ldf) + ' Zettel'\n",
    "    title = von +' bis ' + bis + ': ' + str(len(ldf)) + ' Zettel'\n",
    "    plt.title(title)\n",
    "    plt.xlabel('Dauer in Tagen')\n",
    "    plt.ylabel('Anzahl')\n",
    "    plt.legend(loc=0)\n",
    "    \n",
    "    #plt.show()\n",
    "    filename='out/'+ art +'.png'\n",
    "    plt.savefig(filename, dpi=300)\n",
    "    plt.close()\n",
    "#enddef plotte()\n",
    "\n",
    "von=(min(df.input))\n",
    "von=von.strftime('%d.%m.%Y')\n",
    "\n",
    "bis=(max(df.out))\n",
    "bis=bis.strftime('%d.%m.%Y')\n",
    "\n",
    "for gew_art in df.art.drop_duplicates():\n",
    "    gewaehlt = df.art == gew_art\n",
    "#   gewaehlt = df.input > '2018-12-31'\n",
    "    plot_leadtime(df[gewaehlt], gew_art, von, bis)\n",
    "#endfor gew_art in ....\n",
    "\n",
    "plot_leadtime(df, 'Alle', von, bis)"
   ]
  },
  {
   "cell_type": "code",
   "execution_count": 7,
   "metadata": {},
   "outputs": [],
   "source": [
    "# Breite des Intervals für den \"gleitenden Durchschnitt\" in Tagen\n",
    "#breite = \n",
    "\n",
    "#alle Arbeitstage von ... bis\n",
    "data = pd.bdate_range(von, bis, holidays=feiertage, freq='C')\n",
    "\n",
    "# erste Spalte des neuen Dataframes perc\n",
    "perc = pd.DataFrame(data, columns=['days'])"
   ]
  },
  {
   "cell_type": "code",
   "execution_count": 8,
   "metadata": {},
   "outputs": [
    {
     "data": {
      "text/html": [
       "<div>\n",
       "<style scoped>\n",
       "    .dataframe tbody tr th:only-of-type {\n",
       "        vertical-align: middle;\n",
       "    }\n",
       "\n",
       "    .dataframe tbody tr th {\n",
       "        vertical-align: top;\n",
       "    }\n",
       "\n",
       "    .dataframe thead th {\n",
       "        text-align: right;\n",
       "    }\n",
       "</style>\n",
       "<table border=\"1\" class=\"dataframe\">\n",
       "  <thead>\n",
       "    <tr style=\"text-align: right;\">\n",
       "      <th></th>\n",
       "      <th>days</th>\n",
       "      <th>Alle</th>\n",
       "    </tr>\n",
       "  </thead>\n",
       "  <tbody>\n",
       "    <tr>\n",
       "      <th>0</th>\n",
       "      <td>2018-05-29</td>\n",
       "      <td>22</td>\n",
       "    </tr>\n",
       "    <tr>\n",
       "      <th>1</th>\n",
       "      <td>2018-05-30</td>\n",
       "      <td>22</td>\n",
       "    </tr>\n",
       "    <tr>\n",
       "      <th>2</th>\n",
       "      <td>2018-05-31</td>\n",
       "      <td>22</td>\n",
       "    </tr>\n",
       "    <tr>\n",
       "      <th>3</th>\n",
       "      <td>2018-06-01</td>\n",
       "      <td>18</td>\n",
       "    </tr>\n",
       "    <tr>\n",
       "      <th>4</th>\n",
       "      <td>2018-06-04</td>\n",
       "      <td>18</td>\n",
       "    </tr>\n",
       "  </tbody>\n",
       "</table>\n",
       "</div>"
      ],
      "text/plain": [
       "        days  Alle\n",
       "0 2018-05-29    22\n",
       "1 2018-05-30    22\n",
       "2 2018-05-31    22\n",
       "3 2018-06-01    18\n",
       "4 2018-06-04    18"
      ]
     },
     "execution_count": 8,
     "metadata": {},
     "output_type": "execute_result"
    }
   ],
   "source": [
    "i = 0\n",
    "p80 = np.zeros(len(perc), int) \n",
    "for day in perc.days:\n",
    "    gewaehlt = df.input > day\n",
    "    if (len (df.dauer[gewaehlt]) != 0):\n",
    "        p80[i]  = np.percentile(df.dauer[gewaehlt],90,interpolation='lower')\n",
    "    i = i + 1\n",
    "#endfor day in perc.days\n",
    "\n",
    "perc['Alle'] = p80\n",
    "\n",
    "for gew_art in df.art.drop_duplicates():\n",
    "    i = 0\n",
    "    p80 = np.zeros(len(perc), int) \n",
    "    gewaehlt = df.art == gew_art\n",
    "    for day in perc.days:\n",
    "        gewaehlt &= df.input > day\n",
    "        if (len (df.dauer[gewaehlt]) != 0):\n",
    "            p80[i]  = np.percentile(df.dauer[gewaehlt],90,interpolation='lower')\n",
    "        i = i + 1\n",
    "    #endfor day in perc.days\n",
    " #   perc[gew_art] = p80\n",
    "#endfor gew_art in ...\n",
    "perc.head()"
   ]
  },
  {
   "cell_type": "code",
   "execution_count": 9,
   "metadata": {},
   "outputs": [
    {
     "data": {
      "text/plain": [
       "<matplotlib.axes._subplots.AxesSubplot at 0x1a20574dd0>"
      ]
     },
     "execution_count": 9,
     "metadata": {},
     "output_type": "execute_result"
    },
    {
     "data": {
      "image/png": "[encoded data removed]",
      "text/plain": [
       "<Figure size 432x288 with 1 Axes>"
      ]
     },
     "metadata": {
      "needs_background": "light"
     },
     "output_type": "display_data"
    }
   ],
   "source": [
    "\n",
    "perc.plot(x='days')"
   ]
  },
  {
   "cell_type": "code",
   "execution_count": 11,
   "metadata": {},
   "outputs": [],
   "source": [
    "perc.plot(x='days')\n",
    "filename='out/'+ 'perc_over_time' +'.png'\n",
    "plt.savefig(filename, dpi=300)\n",
    "plt.close()"
   ]
  }
 ],
 "metadata": {
  "kernelspec": {
   "display_name": "Python 2",
   "language": "python",
   "name": "python2"
  },
  "language_info": {
   "codemirror_mode": {
    "name": "ipython",
    "version": 2
   },
   "file_extension": ".py",
   "mimetype": "text/x-python",
   "name": "python",
   "nbconvert_exporter": "python",
   "pygments_lexer": "ipython2",
   "version": "2.7.15"
  }
 },
 "nbformat": 4,
 "nbformat_minor": 2
}
