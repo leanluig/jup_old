{
 "cells": [
  {
   "cell_type": "code",
   "execution_count": 1,
   "metadata": {},
   "outputs": [],
   "source": [
    "%matplotlib inline\n",
    "\n",
    "import pandas as pd\n",
    "import matplotlib.pyplot as plt\n",
    "import seaborn as sns\n",
    "import numpy as np\n",
    "\n",
    "sns.set(style=\"darkgrid\")"
   ]
  },
  {
   "cell_type": "code",
   "execution_count": 2,
   "metadata": {},
   "outputs": [],
   "source": [
    "df = pd.read_csv('input/20190215LPS_CFD.csv', sep=';', usecols=[9,11,18], parse_dates=[1,2], encoding='iso8859_15')"
   ]
  },
  {
   "cell_type": "code",
   "execution_count": 3,
   "metadata": {},
   "outputs": [
    {
     "data": {
      "text/html": [
       "<div>\n",
       "<style scoped>\n",
       "    .dataframe tbody tr th:only-of-type {\n",
       "        vertical-align: middle;\n",
       "    }\n",
       "\n",
       "    .dataframe tbody tr th {\n",
       "        vertical-align: top;\n",
       "    }\n",
       "\n",
       "    .dataframe thead th {\n",
       "        text-align: right;\n",
       "    }\n",
       "</style>\n",
       "<table border=\"1\" class=\"dataframe\">\n",
       "  <thead>\n",
       "    <tr style=\"text-align: right;\">\n",
       "      <th></th>\n",
       "      <th>Linux Plattform weiterentwickeln</th>\n",
       "      <th>2018-08-08</th>\n",
       "      <th>2018-08-15</th>\n",
       "    </tr>\n",
       "  </thead>\n",
       "  <tbody>\n",
       "    <tr>\n",
       "      <th>0</th>\n",
       "      <td>Linux Plattform weiterentwickeln</td>\n",
       "      <td>2018-08-10</td>\n",
       "      <td>2018-08-10</td>\n",
       "    </tr>\n",
       "    <tr>\n",
       "      <th>1</th>\n",
       "      <td>Security</td>\n",
       "      <td>2018-07-20</td>\n",
       "      <td>2018-08-07</td>\n",
       "    </tr>\n",
       "    <tr>\n",
       "      <th>2</th>\n",
       "      <td>Berechtigung verwalten</td>\n",
       "      <td>2018-08-13</td>\n",
       "      <td>2018-08-13</td>\n",
       "    </tr>\n",
       "    <tr>\n",
       "      <th>3</th>\n",
       "      <td>Linux patchen updaten</td>\n",
       "      <td>2018-08-06</td>\n",
       "      <td>2018-08-07</td>\n",
       "    </tr>\n",
       "    <tr>\n",
       "      <th>4</th>\n",
       "      <td>Linux patchen updaten</td>\n",
       "      <td>2018-08-06</td>\n",
       "      <td>2018-08-09</td>\n",
       "    </tr>\n",
       "  </tbody>\n",
       "</table>\n",
       "</div>"
      ],
      "text/plain": [
       "   Linux Plattform weiterentwickeln 2018-08-08 2018-08-15\n",
       "0  Linux Plattform weiterentwickeln 2018-08-10 2018-08-10\n",
       "1                          Security 2018-07-20 2018-08-07\n",
       "2            Berechtigung verwalten 2018-08-13 2018-08-13\n",
       "3             Linux patchen updaten 2018-08-06 2018-08-07\n",
       "4             Linux patchen updaten 2018-08-06 2018-08-09"
      ]
     },
     "execution_count": 3,
     "metadata": {},
     "output_type": "execute_result"
    }
   ],
   "source": [
    "df.head()"
   ]
  },
  {
   "cell_type": "code",
   "execution_count": 4,
   "metadata": {
    "scrolled": true
   },
   "outputs": [
    {
     "data": {
      "text/plain": [
       "Linux Plattform weiterentwickeln            object\n",
       "2018-08-08                          datetime64[ns]\n",
       "2018-08-15                          datetime64[ns]\n",
       "dtype: object"
      ]
     },
     "execution_count": 4,
     "metadata": {},
     "output_type": "execute_result"
    }
   ],
   "source": [
    "df.dtypes"
   ]
  },
  {
   "cell_type": "code",
   "execution_count": 5,
   "metadata": {},
   "outputs": [
    {
     "data": {
      "text/plain": [
       "0        Linux Plattform weiterentwickeln\n",
       "1                                Security\n",
       "2                  Berechtigung verwalten\n",
       "3                   Linux patchen updaten\n",
       "6                   Übergabe alter Themen\n",
       "9      Linux System zur Verfügung stellen\n",
       "22                         VMWare SAN LUN\n",
       "23                                    ITR\n",
       "44                       VMWare verwalten\n",
       "139                             Migration\n",
       "237                              Incident\n",
       "Name: art, dtype: object"
      ]
     },
     "execution_count": 5,
     "metadata": {},
     "output_type": "execute_result"
    }
   ],
   "source": [
    "df.columns = ['art', 'input', 'out']\n",
    "df.art.drop_duplicates()"
   ]
  },
  {
   "cell_type": "code",
   "execution_count": 6,
   "metadata": {},
   "outputs": [
    {
     "data": {
      "text/plain": [
       "0       0 days\n",
       "1      18 days\n",
       "2       0 days\n",
       "3       1 days\n",
       "4       3 days\n",
       "5      17 days\n",
       "6      11 days\n",
       "7       5 days\n",
       "8       0 days\n",
       "9       2 days\n",
       "10      1 days\n",
       "11      3 days\n",
       "12     18 days\n",
       "13      2 days\n",
       "14      1 days\n",
       "15      7 days\n",
       "16      1 days\n",
       "17      2 days\n",
       "18      1 days\n",
       "19      1 days\n",
       "20      4 days\n",
       "21      5 days\n",
       "22      1 days\n",
       "23      0 days\n",
       "24     17 days\n",
       "25      8 days\n",
       "26     17 days\n",
       "27      3 days\n",
       "28      7 days\n",
       "29     12 days\n",
       "        ...   \n",
       "273    35 days\n",
       "274     1 days\n",
       "275     7 days\n",
       "276     4 days\n",
       "277     3 days\n",
       "278    18 days\n",
       "279     1 days\n",
       "280    12 days\n",
       "281     3 days\n",
       "282    28 days\n",
       "283    14 days\n",
       "284     0 days\n",
       "285     2 days\n",
       "286     7 days\n",
       "287     2 days\n",
       "288     1 days\n",
       "289     1 days\n",
       "290   192 days\n",
       "291     6 days\n",
       "292   167 days\n",
       "293   192 days\n",
       "294     9 days\n",
       "295    13 days\n",
       "296    13 days\n",
       "297    79 days\n",
       "298    92 days\n",
       "299    33 days\n",
       "300     4 days\n",
       "301    23 days\n",
       "302     7 days\n",
       "Length: 303, dtype: timedelta64[ns]"
      ]
     },
     "execution_count": 6,
     "metadata": {},
     "output_type": "execute_result"
    }
   ],
   "source": [
    "df.out - df.input "
   ]
  },
  {
   "cell_type": "code",
   "execution_count": 7,
   "metadata": {},
   "outputs": [
    {
     "data": {
      "text/plain": [
       "array([  1,  13,   1,   2,   4,  13,   8,   4,   1,   3,   2,   4,  13,\n",
       "         3,   2,   6,   2,   3,   2,   2,   5,   4,   2,   1,  14,   7,\n",
       "        14,   4,   6,   9,   6,   2,   7,   6,   9,  10,   7,   3,   3,\n",
       "         7,   1,  14,  22,  12,  35,  12,   3,   7,   5,   2,   5,   1,\n",
       "        26,  12,  22,   3,   2,   2,   1,   1,   6,   1,   1,   1,   3,\n",
       "         2,   3,   3,   2,  34,   1,  35,  11,   1,   5,   6,   2,   3,\n",
       "         4,   3,   2,   1,   9,   2,   4,   8,   4,   2,   2,   2,   2,\n",
       "         8,  44,   4,  29,   8,   5,   3,  10,   2,   4,  11,  10,   2,\n",
       "         2,   9,  21,  32,   3,   3,   8,   1,   1,   7,   1,   3,   3,\n",
       "         1,   2,   6,  13,   2,  28,   2,   2,  11,  11,   1,  90,   3,\n",
       "        13,   7,  14,   2,   2,  13,  11,  35,   6,  22,   2,  16,   3,\n",
       "         6,   3,   6,   4,   6,   7,   3,   1,   2,   9,   5,   2,   4,\n",
       "         3,   9,  45,   4,   3,   3,   3,   4,   7,   3,  15,   3,   6,\n",
       "         7,  18,   3,  17,   3,  14,  12,   8,  27,   2,   3,   3,   3,\n",
       "         4,  52,  27,   2,   7,   1,   3,   2,   2,   3,   5,   6,   2,\n",
       "         2,   2,   3,   3,   1, 108, 108,   3,   4,   2,  14,   4,   2,\n",
       "         2,  30,  30,   2,  38,   5,   2,   1,   4,   2,   2,  16,  27,\n",
       "        10,  12,   2,   3,   5,  17,   1,   3,  12,   5,   2,   5,  18,\n",
       "         4,   2,   1,   2,   1,   1,  13,  17,  38,   5,   5,   5,   5,\n",
       "         5,   5,   3,   7,   4,  36,   5,  13,   2,   2,   2,  32,   6,\n",
       "         1,   4,   1,  12,   6,   7,   3,  10,   2,   2,  11,   2,   6,\n",
       "        26,   2,   6,   5,   2,  13,   2,   9,   4,  21,  11,   1,   3,\n",
       "         6,   3,   2,   1, 135,   5, 118, 135,   8,  10,  10,  56,  65,\n",
       "        24,   3,  18,   6])"
      ]
     },
     "execution_count": 7,
     "metadata": {},
     "output_type": "execute_result"
    }
   ],
   "source": [
    "feiertage = ['2018-10-03', # Tag der Einheit\n",
    "             '2018-11-01', # Allerheiligen\n",
    "             '2018-12-24', # Heiligabend\n",
    "             '2018-12-25', # Weihnachten\n",
    "             '2018-12-26', # Weihnachten\n",
    "            ]\n",
    "\n",
    "# astype('datetime64[D]') notwendig\n",
    "dauer=np.busday_count(df.input.values.astype('datetime64[D]'), \n",
    "                  df.out.values.astype('datetime64[D]'), \n",
    "                    holidays=feiertage)+1\n",
    "dauer"
   ]
  },
  {
   "cell_type": "code",
   "execution_count": 8,
   "metadata": {},
   "outputs": [],
   "source": [
    "df['dauer'] = dauer"
   ]
  },
  {
   "cell_type": "code",
   "execution_count": 9,
   "metadata": {},
   "outputs": [],
   "source": [
    "von=(min(df.input))\n",
    "von=von.strftime('%d.%m.%Y')\n",
    "\n",
    "bis=(max(df.out))\n",
    "bis=bis.strftime('%d.%m.%Y')\n",
    "\n",
    "def leadtime(ldf, art, von, bis):\n",
    "    #interpolation noch überprüfen\n",
    "    perc80 = np.percentile(ldf.dauer,80,interpolation='higher')\n",
    "    perc90 = np.percentile(ldf.dauer,90,interpolation='higher')\n",
    "    \n",
    "    # gca stands for 'get current axis'\n",
    "    ax = plt.gca()\n",
    "    #hist zählt direkt die Elemente\n",
    "    ldf.plot(kind='hist', y='dauer',bins=max(dauer),rwidth=1, color='black', ax=ax, label='')\n",
    "    #df[gewaehlt].plot(kind='hist', y='dauer',bins=max(dauer),rwidth=1, color='black', ax=ax, title='selected work item type')\n",
    "\n",
    "    text90 = '90% fertig in ' + str(perc90) + ' Tagen'\n",
    "    \n",
    "    # vertical dotted line originating at mean value\n",
    "    plt.axvline(perc90+.1, linestyle='--', linewidth=1, color='red', label=text90)\n",
    "\n",
    "    text80 = '80% fertig in ' + str(perc80) + ' Tagen'\n",
    "    \n",
    "    # vertical dotted line originating at mean value\n",
    "    plt.axvline(perc80+.1, linestyle='-.', linewidth=1, color='blue', label=text80)\n",
    "\n",
    "    # Beschriftung\n",
    "    plt.suptitle(art)\n",
    "    #raus = str(von) +' bis ' + str(bis) + ': ' + str(len(ldf) + ' Zettel'\n",
    "    title = von +' bis ' + bis + ': ' + str(len(ldf)) + ' Zettel'\n",
    "    plt.title(title)\n",
    "    plt.xlabel('Dauer in Tagen')\n",
    "    plt.ylabel('Anzahl')\n",
    "    plt.legend(loc=0)\n",
    "    \n",
    "    #plt.show()\n",
    "    filename='out/'+ art +'.png'\n",
    "    plt.savefig(filename, dpi=300)\n",
    "    plt.close()\n",
    "#enddef plotte()\n",
    "\n",
    "von=(min(df.input))\n",
    "von=von.strftime('%d.%m.%Y')\n",
    "\n",
    "bis=(max(df.out))\n",
    "bis=bis.strftime('%d.%m.%Y')\n",
    "\n",
    "for gew_art in df.art.drop_duplicates():\n",
    "    gewaehlt = df.art == gew_art\n",
    "#   gewaehlt = df.input > '2018-12-31'\n",
    "    leadtime(df[gewaehlt], gew_art, von, bis)\n",
    "#endfor gew_art in ....\n",
    "\n",
    "leadtime(df, 'Alle', von, bis)"
   ]
  },
  {
   "cell_type": "code",
   "execution_count": 10,
   "metadata": {},
   "outputs": [
    {
     "data": {
      "text/plain": [
       "0      True\n",
       "1      True\n",
       "2      True\n",
       "3      True\n",
       "4      True\n",
       "5      True\n",
       "6      True\n",
       "7      True\n",
       "8      True\n",
       "9      True\n",
       "10     True\n",
       "11     True\n",
       "12     True\n",
       "13     True\n",
       "14     True\n",
       "15     True\n",
       "16     True\n",
       "17     True\n",
       "18     True\n",
       "19     True\n",
       "20     True\n",
       "21     True\n",
       "22     True\n",
       "23     True\n",
       "24     True\n",
       "25     True\n",
       "26     True\n",
       "27     True\n",
       "28     True\n",
       "29     True\n",
       "       ... \n",
       "273    True\n",
       "274    True\n",
       "275    True\n",
       "276    True\n",
       "277    True\n",
       "278    True\n",
       "279    True\n",
       "280    True\n",
       "281    True\n",
       "282    True\n",
       "283    True\n",
       "284    True\n",
       "285    True\n",
       "286    True\n",
       "287    True\n",
       "288    True\n",
       "289    True\n",
       "290    True\n",
       "291    True\n",
       "292    True\n",
       "293    True\n",
       "294    True\n",
       "295    True\n",
       "296    True\n",
       "297    True\n",
       "298    True\n",
       "299    True\n",
       "300    True\n",
       "301    True\n",
       "302    True\n",
       "Name: art, Length: 303, dtype: bool"
      ]
     },
     "execution_count": 10,
     "metadata": {},
     "output_type": "execute_result"
    }
   ],
   "source": [
    "gewaehlt = ~(df.art == gew_art)\n",
    "gewaehlt"
   ]
  },
  {
   "cell_type": "code",
   "execution_count": 11,
   "metadata": {},
   "outputs": [
    {
     "data": {
      "text/plain": [
       "0        Linux Plattform weiterentwickeln\n",
       "1                                Security\n",
       "2                  Berechtigung verwalten\n",
       "3                   Linux patchen updaten\n",
       "6                   Übergabe alter Themen\n",
       "9      Linux System zur Verfügung stellen\n",
       "22                         VMWare SAN LUN\n",
       "23                                    ITR\n",
       "44                       VMWare verwalten\n",
       "139                             Migration\n",
       "237                              Incident\n",
       "Name: art, dtype: object"
      ]
     },
     "execution_count": 11,
     "metadata": {},
     "output_type": "execute_result"
    }
   ],
   "source": [
    "df['art'].drop_duplicates()"
   ]
  }
 ],
 "metadata": {
  "kernelspec": {
   "display_name": "Python 2",
   "language": "python",
   "name": "python2"
  },
  "language_info": {
   "codemirror_mode": {
    "name": "ipython",
    "version": 2
   },
   "file_extension": ".py",
   "mimetype": "text/x-python",
   "name": "python",
   "nbconvert_exporter": "python",
   "pygments_lexer": "ipython2",
   "version": "2.7.15"
  }
 },
 "nbformat": 4,
 "nbformat_minor": 2
}
